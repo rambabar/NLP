{
  "nbformat": 4,
  "nbformat_minor": 0,
  "metadata": {
    "colab": {
      "provenance": []
    },
    "kernelspec": {
      "name": "python3",
      "display_name": "Python 3"
    },
    "language_info": {
      "name": "python"
    },
    "gpuClass": "standard"
  },
  "cells": [
    {
      "cell_type": "code",
      "source": [
        "# Data download\n",
        "# kaggle: https://www.kaggle.com/datasets/gaveshjain/ford-sentence-classifiaction-dataset/code\n",
        "\n",
        "!wget -q --show-progress https://raw.githubusercontent.com/rambabar/NLP/main/data/ford_sentence_data.zip"
      ],
      "metadata": {
        "colab": {
          "base_uri": "https://localhost:8080/"
        },
        "id": "FOKlBW8IeyUm",
        "outputId": "789dc1d4-49b0-4759-b6b1-ede6f7031d21"
      },
      "execution_count": null,
      "outputs": [
        {
          "output_type": "stream",
          "name": "stdout",
          "text": [
            "\rford_sentence_data.   0%[                    ]       0  --.-KB/s               \rford_sentence_data. 100%[===================>]   2.92M  --.-KB/s    in 0.07s   \n"
          ]
        }
      ]
    },
    {
      "cell_type": "code",
      "source": [
        "!mkdir data\n",
        "!unzip ford_sentence_data.zip -d /content/data"
      ],
      "metadata": {
        "id": "PLESwuLLX0nD",
        "colab": {
          "base_uri": "https://localhost:8080/"
        },
        "outputId": "a0182355-55b2-40ed-d9cb-f549c96c83af"
      },
      "execution_count": null,
      "outputs": [
        {
          "output_type": "stream",
          "name": "stdout",
          "text": [
            "Archive:  ford_sentence_data.zip\n",
            "  inflating: /content/data/sample_submission.csv  \n",
            "  inflating: /content/data/test_data.csv  \n",
            "  inflating: /content/data/train_data.csv  \n"
          ]
        }
      ]
    },
    {
      "cell_type": "code",
      "source": [
        "# # If Training time of model is more to prevent disconnect\n",
        "# #Just open Chrome DevTools by pressing F12 or Ctrl+Shift+I on Linux & run following JavaScript code in your console:\n",
        "# '''\n",
        "# function KeepClicking(){\n",
        "#    console.log(\"Clicking\");\n",
        "#    document.querySelector(\"colab-toolbar-button#connect\").click()\n",
        "# }setInterval(KeepClicking,60000)\n",
        "# '''"
      ],
      "metadata": {
        "id": "HTlL9EIpnWaG"
      },
      "execution_count": null,
      "outputs": []
    },
    {
      "cell_type": "code",
      "source": [
        "# #Spark written in Scala programming language & requires Java Virtual Machine (JVM) to run. Therefore, download Java.\n",
        "# !apt-get install openjdk-8-jdk-headless -qq > /dev/null\n",
        "# # install Apache Spark with Hadoop (change the version number if needed) # https://downloads.apache.org/spark/\n",
        "# # !wget -q https://archive.apache.org/dist/spark/spark-3.0.0/spark-3.0.0-bin-hadoop3.2.tgz\n",
        "\n",
        "# !wget -q http://apache.osuosl.org/spark/spark-3.3.1/spark-3.3.1-bin-hadoop3.tgz\n",
        "# !tar xf spark-3.3.1-bin-hadoop3.tgz\n",
        "\n",
        "# # unzip the spark file to the current folder\n",
        "# # !tar xf spark-3.0.0-bin-hadoop3.2.tgz\n",
        "# #install findspark library using pip that will locate Spark on the system and import it as a regular library.\n",
        "# !pip install -q findspark #sparknlp\n",
        "# # set your spark folder to your system path environment. \n",
        "# import os\n",
        "# os.environ[\"JAVA_HOME\"] = \"/usr/lib/jvm/java-8-openjdk-amd64\"\n",
        "# # os.environ[\"SPARK_HOME\"] = \"/content/spark-3.0.0-bin-hadoop3.2\"\n",
        "# os.environ[\"SPARK_HOME\"] = \"/content/spark-3.3.1-bin-hadoop3\"\n",
        "\n",
        "# import findspark\n",
        "# findspark.init()\n",
        "# findspark.find()\n",
        "# # # OR\n",
        "# # # # #install pyspark\n",
        "# # # !pip install -q wheel\n",
        "# # # !pip install -q pyspark"
      ],
      "metadata": {
        "colab": {
          "base_uri": "https://localhost:8080/",
          "height": 36
        },
        "id": "KbFvKWj9ouCN",
        "outputId": "b3ae4c41-ce8f-4451-e728-0edc04a75447"
      },
      "execution_count": null,
      "outputs": [
        {
          "output_type": "execute_result",
          "data": {
            "text/plain": [
              "'/content/spark-3.3.1-bin-hadoop3'"
            ],
            "application/vnd.google.colaboratory.intrinsic+json": {
              "type": "string"
            }
          },
          "metadata": {},
          "execution_count": 3
        }
      ]
    },
    {
      "cell_type": "code",
      "source": [
        "!pip install -q pyspark==3.3.0 spark-nlp==4.2.4"
      ],
      "metadata": {
        "colab": {
          "base_uri": "https://localhost:8080/"
        },
        "id": "ChZ4sKTqHtng",
        "outputId": "8215a499-25f2-41e1-cdda-f31dcd66c2e4"
      },
      "execution_count": null,
      "outputs": [
        {
          "output_type": "stream",
          "name": "stdout",
          "text": [
            "\u001b[2K     \u001b[90m━━━━━━━━━━━━━━━━━━━━━━━━━━━━━━━━━━━━━━━\u001b[0m \u001b[32m281.3/281.3 MB\u001b[0m \u001b[31m4.6 MB/s\u001b[0m eta \u001b[36m0:00:00\u001b[0m\n",
            "\u001b[?25h  Preparing metadata (setup.py) ... \u001b[?25l\u001b[?25hdone\n",
            "\u001b[2K     \u001b[90m━━━━━━━━━━━━━━━━━━━━━━━━━━━━━━━━━━━━━━\u001b[0m \u001b[32m448.4/448.4 KB\u001b[0m \u001b[31m36.2 MB/s\u001b[0m eta \u001b[36m0:00:00\u001b[0m\n",
            "\u001b[2K     \u001b[90m━━━━━━━━━━━━━━━━━━━━━━━━━━━━━━━━━━━━━━\u001b[0m \u001b[32m199.7/199.7 KB\u001b[0m \u001b[31m21.1 MB/s\u001b[0m eta \u001b[36m0:00:00\u001b[0m\n",
            "\u001b[?25h  Building wheel for pyspark (setup.py) ... \u001b[?25l\u001b[?25hdone\n"
          ]
        }
      ]
    },
    {
      "cell_type": "code",
      "source": [
        "import sparknlp\n",
        "\n",
        "spark = sparknlp.start()\n",
        "# params =>> gpu=False\n",
        "print(\"Spark NLP version\", sparknlp.version())\n",
        "print(\"Apache Spark version:\", spark.version)\n",
        "\n",
        "spark"
      ],
      "metadata": {
        "colab": {
          "base_uri": "https://localhost:8080/",
          "height": 258
        },
        "id": "OeZ-mZMEH0vr",
        "outputId": "f26672e3-f5a2-451e-b716-43ac88c1273e"
      },
      "execution_count": null,
      "outputs": [
        {
          "output_type": "stream",
          "name": "stdout",
          "text": [
            "Spark NLP version 4.2.4\n",
            "Apache Spark version: 3.3.0\n"
          ]
        },
        {
          "output_type": "execute_result",
          "data": {
            "text/plain": [
              "<pyspark.sql.session.SparkSession at 0x7f626938d430>"
            ],
            "text/html": [
              "\n",
              "            <div>\n",
              "                <p><b>SparkSession - in-memory</b></p>\n",
              "                \n",
              "        <div>\n",
              "            <p><b>SparkContext</b></p>\n",
              "\n",
              "            <p><a href=\"http://7841faab0129:4040\">Spark UI</a></p>\n",
              "\n",
              "            <dl>\n",
              "              <dt>Version</dt>\n",
              "                <dd><code>v3.3.0</code></dd>\n",
              "              <dt>Master</dt>\n",
              "                <dd><code>local[*]</code></dd>\n",
              "              <dt>AppName</dt>\n",
              "                <dd><code>Spark NLP</code></dd>\n",
              "            </dl>\n",
              "        </div>\n",
              "        \n",
              "            </div>\n",
              "        "
            ]
          },
          "metadata": {},
          "execution_count": 4
        }
      ]
    },
    {
      "cell_type": "code",
      "source": [
        "! cd ~/.ivy2/cache/com.johnsnowlabs.nlp/spark-nlp_2.12/jars && ls -lt"
      ],
      "metadata": {
        "colab": {
          "base_uri": "https://localhost:8080/"
        },
        "id": "9zJqhjktH56p",
        "outputId": "8f0fb395-8bb9-4d91-9252-f41d9f47f158"
      },
      "execution_count": null,
      "outputs": [
        {
          "output_type": "stream",
          "name": "stdout",
          "text": [
            "total 43992\n",
            "-rw-r--r-- 1 root root 45044627 Nov 28 16:37 spark-nlp_2.12-4.2.4.jar\n"
          ]
        }
      ]
    },
    {
      "cell_type": "code",
      "source": [],
      "metadata": {
        "id": "aOW8v2-TJbei"
      },
      "execution_count": null,
      "outputs": []
    },
    {
      "cell_type": "code",
      "source": [
        "from pyspark.sql import SparkSession\n",
        "spark = SparkSession.builder.appName(\"ford_sent_classifn\").config('spark.ui.port', '4050').getOrCreate()\n",
        "#spark = SparkSession.builder.master(\"local\").appName(\"pyspark\").config('spark.ui.port', '4050').getOrCreate()\n",
        "#spark=SparkSession.builder.appName(\"local[*]\").getOrCreate()\n",
        "sc = spark.sparkContext\n",
        "print(\"Apache Spark version: \", spark.version)\n",
        "spark"
      ],
      "metadata": {
        "id": "H391qFWwBr6D",
        "colab": {
          "base_uri": "https://localhost:8080/",
          "height": 240
        },
        "outputId": "8a01b437-4ee7-4afe-d6b4-7070743f24a7"
      },
      "execution_count": null,
      "outputs": [
        {
          "output_type": "stream",
          "name": "stdout",
          "text": [
            "Apache Spark version:  3.3.0\n"
          ]
        },
        {
          "output_type": "execute_result",
          "data": {
            "text/plain": [
              "<pyspark.sql.session.SparkSession at 0x7f626938d430>"
            ],
            "text/html": [
              "\n",
              "            <div>\n",
              "                <p><b>SparkSession - in-memory</b></p>\n",
              "                \n",
              "        <div>\n",
              "            <p><b>SparkContext</b></p>\n",
              "\n",
              "            <p><a href=\"http://7841faab0129:4040\">Spark UI</a></p>\n",
              "\n",
              "            <dl>\n",
              "              <dt>Version</dt>\n",
              "                <dd><code>v3.3.0</code></dd>\n",
              "              <dt>Master</dt>\n",
              "                <dd><code>local[*]</code></dd>\n",
              "              <dt>AppName</dt>\n",
              "                <dd><code>Spark NLP</code></dd>\n",
              "            </dl>\n",
              "        </div>\n",
              "        \n",
              "            </div>\n",
              "        "
            ]
          },
          "metadata": {},
          "execution_count": 7
        }
      ]
    },
    {
      "cell_type": "code",
      "source": [
        "##Import Necessary Libraries\n",
        "import pyspark\n",
        "import pyspark.sql.functions as F\n",
        "from pyspark.sql.types import StructType, StructField, StringType, IntegerType\n",
        "from pyspark.ml import Pipeline\n",
        "import sparknlp\n",
        "from sparknlp.base import *\n",
        "from sparknlp.annotator import *\n",
        "\n",
        "from sklearn.metrics import classification_report, confusion_matrix, ConfusionMatrixDisplay"
      ],
      "metadata": {
        "id": "1bIUiJToXVXm"
      },
      "execution_count": null,
      "outputs": []
    },
    {
      "cell_type": "code",
      "source": [
        "import glob\n",
        "import pandas as pd\n",
        "csv_files = glob.glob(\"/content/data/*.csv\")\n",
        "for i in csv_files:\n",
        "  df = pd.read_csv(i)\n",
        "  print(i, df.shape)"
      ],
      "metadata": {
        "colab": {
          "base_uri": "https://localhost:8080/"
        },
        "id": "URg1eOtXgMnR",
        "outputId": "7705a14c-2c38-4616-b6f5-680d88346710"
      },
      "execution_count": null,
      "outputs": [
        {
          "output_type": "stream",
          "name": "stdout",
          "text": [
            "/content/data/sample_submission.csv (5, 2)\n",
            "/content/data/test_data.csv (15029, 3)\n",
            "/content/data/train_data.csv (60115, 4)\n"
          ]
        }
      ]
    },
    {
      "cell_type": "code",
      "source": [
        "df1 = pd.read_csv('/content/data/train_data.csv', delimiter=\",\")\n",
        "print(\"unique_in_type_column: \" ,df1[\"Type\"].unique())\n",
        "print(df1.shape)\n",
        "df1.head()"
      ],
      "metadata": {
        "colab": {
          "base_uri": "https://localhost:8080/",
          "height": 261
        },
        "id": "qhrAS6HqXzzn",
        "outputId": "0d91f5e1-d4b8-4253-a49b-fb89aa0701fe"
      },
      "execution_count": null,
      "outputs": [
        {
          "output_type": "stream",
          "name": "stdout",
          "text": [
            "unique_in_type_column:  ['Responsibility' 'Requirement' 'Skill' 'SoftSkill' 'Education'\n",
            " 'Experience']\n",
            "(60115, 4)\n"
          ]
        },
        {
          "output_type": "execute_result",
          "data": {
            "text/plain": [
              "   Unnamed: 0  Sentence_id                                       New_Sentence  \\\n",
              "0           0  GERRES15609  Author and/or Review architecture/design and o...   \n",
              "1           1  PHERES15784  Should be able to develop custom dynamic shape...   \n",
              "2           2  GERREQ10457  Experience in working crosslly with a  larger ...   \n",
              "3           3  GERSKL27235  Previous business experience, including but no...   \n",
              "4           4  HONSSK18415         Delivering fast and right the first  time.   \n",
              "\n",
              "             Type  \n",
              "0  Responsibility  \n",
              "1  Responsibility  \n",
              "2     Requirement  \n",
              "3           Skill  \n",
              "4       SoftSkill  "
            ],
            "text/html": [
              "\n",
              "  <div id=\"df-4a40e1a1-46be-4033-8581-328c97269f68\">\n",
              "    <div class=\"colab-df-container\">\n",
              "      <div>\n",
              "<style scoped>\n",
              "    .dataframe tbody tr th:only-of-type {\n",
              "        vertical-align: middle;\n",
              "    }\n",
              "\n",
              "    .dataframe tbody tr th {\n",
              "        vertical-align: top;\n",
              "    }\n",
              "\n",
              "    .dataframe thead th {\n",
              "        text-align: right;\n",
              "    }\n",
              "</style>\n",
              "<table border=\"1\" class=\"dataframe\">\n",
              "  <thead>\n",
              "    <tr style=\"text-align: right;\">\n",
              "      <th></th>\n",
              "      <th>Unnamed: 0</th>\n",
              "      <th>Sentence_id</th>\n",
              "      <th>New_Sentence</th>\n",
              "      <th>Type</th>\n",
              "    </tr>\n",
              "  </thead>\n",
              "  <tbody>\n",
              "    <tr>\n",
              "      <th>0</th>\n",
              "      <td>0</td>\n",
              "      <td>GERRES15609</td>\n",
              "      <td>Author and/or Review architecture/design and o...</td>\n",
              "      <td>Responsibility</td>\n",
              "    </tr>\n",
              "    <tr>\n",
              "      <th>1</th>\n",
              "      <td>1</td>\n",
              "      <td>PHERES15784</td>\n",
              "      <td>Should be able to develop custom dynamic shape...</td>\n",
              "      <td>Responsibility</td>\n",
              "    </tr>\n",
              "    <tr>\n",
              "      <th>2</th>\n",
              "      <td>2</td>\n",
              "      <td>GERREQ10457</td>\n",
              "      <td>Experience in working crosslly with a  larger ...</td>\n",
              "      <td>Requirement</td>\n",
              "    </tr>\n",
              "    <tr>\n",
              "      <th>3</th>\n",
              "      <td>3</td>\n",
              "      <td>GERSKL27235</td>\n",
              "      <td>Previous business experience, including but no...</td>\n",
              "      <td>Skill</td>\n",
              "    </tr>\n",
              "    <tr>\n",
              "      <th>4</th>\n",
              "      <td>4</td>\n",
              "      <td>HONSSK18415</td>\n",
              "      <td>Delivering fast and right the first  time.</td>\n",
              "      <td>SoftSkill</td>\n",
              "    </tr>\n",
              "  </tbody>\n",
              "</table>\n",
              "</div>\n",
              "      <button class=\"colab-df-convert\" onclick=\"convertToInteractive('df-4a40e1a1-46be-4033-8581-328c97269f68')\"\n",
              "              title=\"Convert this dataframe to an interactive table.\"\n",
              "              style=\"display:none;\">\n",
              "        \n",
              "  <svg xmlns=\"http://www.w3.org/2000/svg\" height=\"24px\"viewBox=\"0 0 24 24\"\n",
              "       width=\"24px\">\n",
              "    <path d=\"M0 0h24v24H0V0z\" fill=\"none\"/>\n",
              "    <path d=\"M18.56 5.44l.94 2.06.94-2.06 2.06-.94-2.06-.94-.94-2.06-.94 2.06-2.06.94zm-11 1L8.5 8.5l.94-2.06 2.06-.94-2.06-.94L8.5 2.5l-.94 2.06-2.06.94zm10 10l.94 2.06.94-2.06 2.06-.94-2.06-.94-.94-2.06-.94 2.06-2.06.94z\"/><path d=\"M17.41 7.96l-1.37-1.37c-.4-.4-.92-.59-1.43-.59-.52 0-1.04.2-1.43.59L10.3 9.45l-7.72 7.72c-.78.78-.78 2.05 0 2.83L4 21.41c.39.39.9.59 1.41.59.51 0 1.02-.2 1.41-.59l7.78-7.78 2.81-2.81c.8-.78.8-2.07 0-2.86zM5.41 20L4 18.59l7.72-7.72 1.47 1.35L5.41 20z\"/>\n",
              "  </svg>\n",
              "      </button>\n",
              "      \n",
              "  <style>\n",
              "    .colab-df-container {\n",
              "      display:flex;\n",
              "      flex-wrap:wrap;\n",
              "      gap: 12px;\n",
              "    }\n",
              "\n",
              "    .colab-df-convert {\n",
              "      background-color: #E8F0FE;\n",
              "      border: none;\n",
              "      border-radius: 50%;\n",
              "      cursor: pointer;\n",
              "      display: none;\n",
              "      fill: #1967D2;\n",
              "      height: 32px;\n",
              "      padding: 0 0 0 0;\n",
              "      width: 32px;\n",
              "    }\n",
              "\n",
              "    .colab-df-convert:hover {\n",
              "      background-color: #E2EBFA;\n",
              "      box-shadow: 0px 1px 2px rgba(60, 64, 67, 0.3), 0px 1px 3px 1px rgba(60, 64, 67, 0.15);\n",
              "      fill: #174EA6;\n",
              "    }\n",
              "\n",
              "    [theme=dark] .colab-df-convert {\n",
              "      background-color: #3B4455;\n",
              "      fill: #D2E3FC;\n",
              "    }\n",
              "\n",
              "    [theme=dark] .colab-df-convert:hover {\n",
              "      background-color: #434B5C;\n",
              "      box-shadow: 0px 1px 3px 1px rgba(0, 0, 0, 0.15);\n",
              "      filter: drop-shadow(0px 1px 2px rgba(0, 0, 0, 0.3));\n",
              "      fill: #FFFFFF;\n",
              "    }\n",
              "  </style>\n",
              "\n",
              "      <script>\n",
              "        const buttonEl =\n",
              "          document.querySelector('#df-4a40e1a1-46be-4033-8581-328c97269f68 button.colab-df-convert');\n",
              "        buttonEl.style.display =\n",
              "          google.colab.kernel.accessAllowed ? 'block' : 'none';\n",
              "\n",
              "        async function convertToInteractive(key) {\n",
              "          const element = document.querySelector('#df-4a40e1a1-46be-4033-8581-328c97269f68');\n",
              "          const dataTable =\n",
              "            await google.colab.kernel.invokeFunction('convertToInteractive',\n",
              "                                                     [key], {});\n",
              "          if (!dataTable) return;\n",
              "\n",
              "          const docLinkHtml = 'Like what you see? Visit the ' +\n",
              "            '<a target=\"_blank\" href=https://colab.research.google.com/notebooks/data_table.ipynb>data table notebook</a>'\n",
              "            + ' to learn more about interactive tables.';\n",
              "          element.innerHTML = '';\n",
              "          dataTable['output_type'] = 'display_data';\n",
              "          await google.colab.output.renderOutput(dataTable, element);\n",
              "          const docLink = document.createElement('div');\n",
              "          docLink.innerHTML = docLinkHtml;\n",
              "          element.appendChild(docLink);\n",
              "        }\n",
              "      </script>\n",
              "    </div>\n",
              "  </div>\n",
              "  "
            ]
          },
          "metadata": {},
          "execution_count": 10
        }
      ]
    },
    {
      "cell_type": "code",
      "source": [
        "## Ingest Dataset & Start Data Preprocessing\n",
        "# File location and type\n",
        "file_location = \"/content/data/train_data.csv\"\n",
        "file_type = \"csv\"\n",
        "\n",
        "# CSV options\n",
        "infer_schema = \"false\"\n",
        "first_row_is_header = \"true\"\n",
        "delimiter = \",\"\n",
        "\n",
        "schema = StructType([\n",
        "    StructField(\"_c0\", IntegerType(), True),\n",
        "    StructField(\"sentence_id\", StringType(), True),\n",
        "    StructField(\"new_sentence\", StringType(), True),\n",
        "    StructField(\"type\", StringType(), True),\n",
        "])\n",
        "\n",
        "# The applied options are for CSV files. For other file types, these will be ignored.\n",
        "df = spark.read.format(file_type) \\\n",
        "  .option(\"inferSchema\", infer_schema) \\\n",
        "  .option(\"header\", first_row_is_header) \\\n",
        "  .option(\"sep\", delimiter) \\\n",
        "  .schema(schema)\\\n",
        "  .load(file_location)\n",
        "\n",
        "df = df.drop(\"_c0\", \"sentence_id\")\n",
        "df = df.dropDuplicates()\n",
        "df = df.dropna()\n",
        "#df = df.withColumn(\"sentence_len\", F.size(F.split(F.col('new_sentence'), ' ')))\n",
        "\n",
        "df = df.withColumnRenamed(\"new_sentence\", \"text\")\\\n",
        "    .withColumnRenamed(\"type\", \"label\")\n",
        "\n",
        "display(df)"
      ],
      "metadata": {
        "colab": {
          "base_uri": "https://localhost:8080/",
          "height": 35
        },
        "id": "pbE1xxSnRprO",
        "outputId": "fa1c793a-502f-4ff7-8a80-cd4aca675c24"
      },
      "execution_count": null,
      "outputs": [
        {
          "output_type": "display_data",
          "data": {
            "text/plain": [
              "DataFrame[text: string, label: string]"
            ]
          },
          "metadata": {}
        }
      ]
    },
    {
      "cell_type": "code",
      "source": [
        "## Display Summary Statistics for Dataset\n",
        "df.summary().show()"
      ],
      "metadata": {
        "id": "CAeXZ0L1XVdO",
        "colab": {
          "base_uri": "https://localhost:8080/"
        },
        "outputId": "f3162ae9-3648-4748-a5f5-cbc4eb988274"
      },
      "execution_count": null,
      "outputs": [
        {
          "output_type": "stream",
          "name": "stdout",
          "text": [
            "+-------+-------------------------------------+---------+\n",
            "|summary|                                 text|    label|\n",
            "+-------+-------------------------------------+---------+\n",
            "|  count|                                58010|    58010|\n",
            "|   mean|                                 null|     null|\n",
            "| stddev|                                 null|     null|\n",
            "|    min|                   *FRENCH SPEAKING*.|Education|\n",
            "|    25%|                                 null|     null|\n",
            "|    50%|                                 null|     null|\n",
            "|    75%|                                 null|     null|\n",
            "|    max|通过阶段性项目评审流程与领导团队沟...|SoftSkill|\n",
            "+-------+-------------------------------------+---------+\n",
            "\n"
          ]
        }
      ]
    },
    {
      "cell_type": "code",
      "source": [
        "## Remove Unnecessary Features\n",
        "df = df.drop(\"sentence_len\")"
      ],
      "metadata": {
        "id": "-Al2B992XVgS"
      },
      "execution_count": null,
      "outputs": []
    },
    {
      "cell_type": "code",
      "source": [
        "## Display Distinct Label Values\n",
        "print(\"distinct_labels\", df.select(\"label\").distinct().count())\n",
        "df.select(\"label\").distinct().show()"
      ],
      "metadata": {
        "id": "jHkumK2dXVj9",
        "colab": {
          "base_uri": "https://localhost:8080/"
        },
        "outputId": "25ebbba9-c6e8-4e94-cea2-f02f517873b7"
      },
      "execution_count": null,
      "outputs": [
        {
          "output_type": "stream",
          "name": "stdout",
          "text": [
            "distinct_labels 6\n",
            "+--------------+\n",
            "|         label|\n",
            "+--------------+\n",
            "|     Education|\n",
            "|Responsibility|\n",
            "|         Skill|\n",
            "|   Requirement|\n",
            "|    Experience|\n",
            "|     SoftSkill|\n",
            "+--------------+\n",
            "\n"
          ]
        }
      ]
    },
    {
      "cell_type": "code",
      "source": [
        "## Create Function to Remove Class Imbalance\n",
        "\n",
        "def balance_dataset(dataset, unique_label_values, new_schema, samples = 20000, label_col = \"label\"):\n",
        "    temp_df =  spark.createDataFrame([], new_schema)\n",
        "    new_df =  spark.createDataFrame([], new_schema)\n",
        "    \n",
        "    for ulab in unique_label_values:\n",
        "        # extract df of only the desired labels\n",
        "        temp_df = dataset.where(F.col(label_col).isin(ulab))\n",
        "        \n",
        "        ratio = round(samples/temp_df.count(),4)\n",
        "        # sample it to desired number of samples\n",
        "        if ratio > 1.0:\n",
        "            # Oversample\n",
        "            temp_df = temp_df.sample(True, ratio, seed=42)\n",
        "        elif ratio < 1.0:\n",
        "            # Undersample\n",
        "            temp_df = temp_df.sample(False, ratio, seed=42)\n",
        "        elif ratio == 1.0:\n",
        "            # Just use the existing dataframe\n",
        "            pass\n",
        "        # concatenate it to the new_df\n",
        "        new_df = new_df.union(temp_df)\n",
        "        # unpersist the temp_df\n",
        "        temp_df.unpersist()\n",
        "    return new_df"
      ],
      "metadata": {
        "id": "2fWYRWcwSb6P"
      },
      "execution_count": null,
      "outputs": []
    },
    {
      "cell_type": "code",
      "source": [
        "## Define Necessary Values for Removing Dataset Imbalance & Run Function to do so\n",
        "\n",
        "new_schema = StructType([\n",
        "    StructField(\"text\", StringType(), True),\n",
        "    StructField(\"label\", StringType(), True),\n",
        "         ])\n",
        "\n",
        "unique_label_vals = [\"Education\", \"Responsibility\", \"Skill\", \"Requirement\", \"Experience\", \"SoftSkill\"]\n",
        "\n",
        "bal_ds = balance_dataset(df, unique_label_vals, new_schema, 10000, \"label\")\n",
        "\n",
        "display(bal_ds)\n",
        "     "
      ],
      "metadata": {
        "id": "0r-W79hsScBs",
        "colab": {
          "base_uri": "https://localhost:8080/",
          "height": 35
        },
        "outputId": "275cbd5d-42df-465d-a282-9122f230b8cb"
      },
      "execution_count": null,
      "outputs": [
        {
          "output_type": "display_data",
          "data": {
            "text/plain": [
              "DataFrame[text: string, label: string]"
            ]
          },
          "metadata": {}
        }
      ]
    },
    {
      "cell_type": "code",
      "source": [
        "## Convert Labels from String to Integers\n",
        "label_val_converter = {\"Education\" : \"0\", \"Experience\" : \"1\", \"Requirement\" : \"2\", \"Responsibility\" : \"3\", \"Skill\" : \"4\", \"SoftSkill\" : \"5\"}\n",
        "bal_ds = bal_ds.replace(label_val_converter,subset=['label'])\n",
        "display(bal_ds)"
      ],
      "metadata": {
        "id": "M_mEcQYMScE0",
        "colab": {
          "base_uri": "https://localhost:8080/",
          "height": 35
        },
        "outputId": "5a42fa3b-1829-49af-b8c6-b299bb670560"
      },
      "execution_count": null,
      "outputs": [
        {
          "output_type": "display_data",
          "data": {
            "text/plain": [
              "DataFrame[text: string, label: string]"
            ]
          },
          "metadata": {}
        }
      ]
    },
    {
      "cell_type": "code",
      "source": [
        "train_ds, test_ds = bal_ds.randomSplit(weights=[0.80, 0.20], seed=42)\n",
        "print(f\"# of Samples in Training Dataset: {train_ds.count()}\")\n",
        "print(f\"# of Samples in Testing Dataset: {test_ds.count()}\")"
      ],
      "metadata": {
        "id": "KApllzfqScH4",
        "colab": {
          "base_uri": "https://localhost:8080/"
        },
        "outputId": "1fd395a8-efeb-4ef8-b455-eb913fad10a3"
      },
      "execution_count": null,
      "outputs": [
        {
          "output_type": "stream",
          "name": "stdout",
          "text": [
            "# of Samples in Training Dataset: 48649\n",
            "# of Samples in Testing Dataset: 12019\n"
          ]
        }
      ]
    },
    {
      "cell_type": "code",
      "source": [
        "#Basic Values/Constants\n",
        "NUM_OF_EPOCHS = 11\n",
        "BATCH_SIZE = 64\n",
        "LR = 3e-3\n",
        "VERBOSITY_LEVEL = 2"
      ],
      "metadata": {
        "id": "UYlC7lbPS1-E"
      },
      "execution_count": null,
      "outputs": []
    },
    {
      "cell_type": "code",
      "source": [
        "# from py4j.java_gateway import java_import\n",
        "# java_import(spark._sc._jvm, \"org.apache.spark.sql.api.python.*\")"
      ],
      "metadata": {
        "id": "Lx-Tnrcuv4Kr"
      },
      "execution_count": null,
      "outputs": []
    },
    {
      "cell_type": "code",
      "source": [
        "#Create Pipeline Stages\n",
        "\n",
        "document_assembler = DocumentAssembler() \\\n",
        "    .setInputCol(\"text\")\\\n",
        "    .setOutputCol(\"doc\")\n",
        "    \n",
        "use = UniversalSentenceEncoder.pretrained()\\\n",
        "    .setInputCols([\"doc\"])\\\n",
        "    .setOutputCol(\"sent_embeds\")\n",
        "\n",
        "clf = ClassifierDLApproach()\\\n",
        "    .setInputCols([\"sent_embeds\"])\\\n",
        "    .setOutputCol(\"class\")\\\n",
        "    .setLabelColumn(\"label\")\\\n",
        "    .setBatchSize(BATCH_SIZE)\\\n",
        "    .setMaxEpochs(NUM_OF_EPOCHS)\\\n",
        "    .setLr(LR)\\\n",
        "    .setVerbose(VERBOSITY_LEVEL)"
      ],
      "metadata": {
        "id": "hLaseWe6S3e-",
        "colab": {
          "base_uri": "https://localhost:8080/"
        },
        "outputId": "297fa766-7cb8-4824-ef09-39a2ad3a1f00"
      },
      "execution_count": null,
      "outputs": [
        {
          "output_type": "stream",
          "name": "stdout",
          "text": [
            "tfhub_use download started this may take some time.\n",
            "Approximate size to download 923.7 MB\n",
            "[OK!]\n"
          ]
        }
      ]
    },
    {
      "cell_type": "code",
      "source": [
        "#Create Pipeline\n",
        "\n",
        "ford_sent_pipe = Pipeline().setStages([\n",
        "    document_assembler,\n",
        "    use,\n",
        "    clf\n",
        "])"
      ],
      "metadata": {
        "id": "NzPLXDITS9Y8"
      },
      "execution_count": null,
      "outputs": []
    },
    {
      "cell_type": "code",
      "source": [
        "#Fit/Train Model\n",
        "clf_model = ford_sent_pipe.fit(train_ds)\n",
        "\n",
        "#Make Predictions Using Testing Dataset\n",
        "preds = clf_model.transform(test_ds)\n",
        "\n",
        "#Condense to Only Return Necessary Features\n",
        "preds_in_pandas = (preds.select(F.col('text').alias(\"text\"), F.col('label').alias(\"ground_truth\"), F.col('class.result').alias(\"prediction\"))).toPandas()"
      ],
      "metadata": {
        "id": "KzjAlyXAS3oI"
      },
      "execution_count": null,
      "outputs": []
    },
    {
      "cell_type": "code",
      "source": [
        "# Generate & Display Classification Report\n",
        "preds_in_pandas['prediction'] = preds_in_pandas['prediction'].apply(lambda x : x[0])\n",
        "report = classification_report(preds_in_pandas['ground_truth'], preds_in_pandas['prediction'])\n",
        "print(report)"
      ],
      "metadata": {
        "id": "HOkVTMEKTSOF",
        "colab": {
          "base_uri": "https://localhost:8080/"
        },
        "outputId": "f3a8cdf6-a3be-4be0-c648-ef14208eeabe"
      },
      "execution_count": null,
      "outputs": [
        {
          "output_type": "stream",
          "name": "stdout",
          "text": [
            "              precision    recall  f1-score   support\n",
            "\n",
            "           0       0.85      0.86      0.85      1995\n",
            "           1       0.91      0.89      0.90      1986\n",
            "           2       0.53      0.36      0.43      2035\n",
            "           3       0.69      0.86      0.76      1953\n",
            "           4       0.62      0.61      0.62      2037\n",
            "           5       0.69      0.77      0.73      2013\n",
            "\n",
            "    accuracy                           0.72     12019\n",
            "   macro avg       0.72      0.73      0.72     12019\n",
            "weighted avg       0.71      0.72      0.71     12019\n",
            "\n"
          ]
        }
      ]
    },
    {
      "cell_type": "code",
      "source": [
        "from matplotlib import pyplot as plt"
      ],
      "metadata": {
        "id": "mF82hJS6KldB"
      },
      "execution_count": null,
      "outputs": []
    },
    {
      "cell_type": "code",
      "source": [
        "#Generate & Display Confusion Matrix\n",
        "display_labels_converter = [\"Education\", \"Experience\", \"Requirement\", \"Responsibility\", \"Skill\", \"SoftSkill\"]\n",
        "cm = confusion_matrix(preds_in_pandas['ground_truth'], preds_in_pandas['prediction'])\n",
        "dist = ConfusionMatrixDisplay(confusion_matrix=cm, display_labels=display_labels_converter)\n",
        "\n",
        "plt.rcParams['figure.figsize'] = [8, 8]\n",
        "display(dist.plot(colorbar=False))"
      ],
      "metadata": {
        "id": "8_69B16zTWSE",
        "colab": {
          "base_uri": "https://localhost:8080/",
          "height": 515
        },
        "outputId": "6491f818-a233-4057-83d1-a0399b9f149b"
      },
      "execution_count": null,
      "outputs": [
        {
          "output_type": "display_data",
          "data": {
            "text/plain": [
              "<sklearn.metrics._plot.confusion_matrix.ConfusionMatrixDisplay at 0x7f62585ba850>"
            ]
          },
          "metadata": {}
        },
        {
          "output_type": "display_data",
          "data": {
            "text/plain": [
              "<Figure size 576x576 with 1 Axes>"
            ],
            "image/png": "[encoded data removed]"
          },
          "metadata": {
            "needs_background": "light"
          }
        }
      ]
    }
  ]
}
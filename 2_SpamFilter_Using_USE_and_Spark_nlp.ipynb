{
  "nbformat": 4,
  "nbformat_minor": 0,
  "metadata": {
    "colab": {
      "provenance": []
    },
    "kernelspec": {
      "name": "python3",
      "display_name": "Python 3"
    },
    "language_info": {
      "name": "python"
    },
    "gpuClass": "standard"
  },
  "cells": [
    {
      "cell_type": "code",
      "source": [
        "from google.colab import drive\n",
        "drive.mount('/content/drive')"
      ],
      "metadata": {
        "id": "7Y0teSrslN2A",
        "colab": {
          "base_uri": "https://localhost:8080/"
        },
        "outputId": "6c29d711-b5ed-4e7e-d5e6-59037f4a9b77"
      },
      "execution_count": null,
      "outputs": [
        {
          "output_type": "stream",
          "name": "stdout",
          "text": [
            "Mounted at /content/drive\n"
          ]
        }
      ]
    },
    {
      "cell_type": "code",
      "source": [
        "# Data download\n",
        "# kaggle: https://www.kaggle.com/datasets/uciml/sms-spam-collection-dataset\n",
        "\n",
        "!wget -q --show-progress https://raw.githubusercontent.com/rambabar/NLP/main/data/spam.csv"
      ],
      "metadata": {
        "colab": {
          "base_uri": "https://localhost:8080/"
        },
        "id": "kW9EiZSjd2w0",
        "outputId": "95693a7c-fe96-4cf6-80bf-1700e55838e4"
      },
      "execution_count": null,
      "outputs": [
        {
          "output_type": "stream",
          "name": "stdout",
          "text": [
            "\rspam.csv              0%[                    ]       0  --.-KB/s               \rspam.csv            100%[===================>] 491.86K  --.-KB/s    in 0.03s   \n"
          ]
        }
      ]
    },
    {
      "cell_type": "code",
      "source": [
        "# # If Training time of model is more to prevent disconnect\n",
        "# #Just open Chrome DevTools by pressing F12 or Ctrl+Shift+I on Linux & run following JavaScript code in your console:\n",
        "# '''\n",
        "# function KeepClicking(){\n",
        "#    console.log(\"Clicking\");\n",
        "#    document.querySelector(\"colab-toolbar-button#connect\").click()\n",
        "# }setInterval(KeepClicking,60000)\n",
        "# '''"
      ],
      "metadata": {
        "id": "HTlL9EIpnWaG"
      },
      "execution_count": null,
      "outputs": []
    },
    {
      "cell_type": "code",
      "source": [
        "# #Spark written in Scala programming language & requires Java Virtual Machine (JVM) to run. Therefore, download Java.\n",
        "# !apt-get install openjdk-8-jdk-headless -qq > /dev/null\n",
        "# # install Apache Spark with Hadoop (change the version number if needed) # https://downloads.apache.org/spark/\n",
        "# # !wget -q https://archive.apache.org/dist/spark/spark-3.0.0/spark-3.0.0-bin-hadoop3.2.tgz\n",
        "\n",
        "# !wget -q http://apache.osuosl.org/spark/spark-3.3.1/spark-3.3.1-bin-hadoop3.tgz\n",
        "# !tar xf spark-3.3.1-bin-hadoop3.tgz\n",
        "\n",
        "# # unzip the spark file to the current folder\n",
        "# # !tar xf spark-3.0.0-bin-hadoop3.2.tgz\n",
        "# #install findspark library using pip that will locate Spark on the system and import it as a regular library.\n",
        "# !pip install -q findspark #sparknlp\n",
        "# # set your spark folder to your system path environment. \n",
        "# import os\n",
        "# os.environ[\"JAVA_HOME\"] = \"/usr/lib/jvm/java-8-openjdk-amd64\"\n",
        "# # os.environ[\"SPARK_HOME\"] = \"/content/spark-3.0.0-bin-hadoop3.2\"\n",
        "# os.environ[\"SPARK_HOME\"] = \"/content/spark-3.3.1-bin-hadoop3\"\n",
        "\n",
        "# import findspark\n",
        "# findspark.init()\n",
        "# findspark.find()\n",
        "# # # OR\n",
        "# # # # #install pyspark\n",
        "# # # !pip install -q wheel\n",
        "# # # !pip install -q pyspark"
      ],
      "metadata": {
        "colab": {
          "base_uri": "https://localhost:8080/",
          "height": 36
        },
        "id": "KbFvKWj9ouCN",
        "outputId": "b3ae4c41-ce8f-4451-e728-0edc04a75447"
      },
      "execution_count": null,
      "outputs": [
        {
          "output_type": "execute_result",
          "data": {
            "text/plain": [
              "'/content/spark-3.3.1-bin-hadoop3'"
            ],
            "application/vnd.google.colaboratory.intrinsic+json": {
              "type": "string"
            }
          },
          "metadata": {},
          "execution_count": 3
        }
      ]
    },
    {
      "cell_type": "code",
      "source": [
        "!pip install -q pyspark==3.3.0 spark-nlp==4.2.4"
      ],
      "metadata": {
        "colab": {
          "base_uri": "https://localhost:8080/"
        },
        "id": "ChZ4sKTqHtng",
        "outputId": "8e28687f-f162-4c0d-fbd5-d820124b869c"
      },
      "execution_count": null,
      "outputs": [
        {
          "output_type": "stream",
          "name": "stdout",
          "text": [
            "\u001b[2K     \u001b[90m━━━━━━━━━━━━━━━━━━━━━━━━━━━━━━━━━━━━━━━\u001b[0m \u001b[32m281.3/281.3 MB\u001b[0m \u001b[31m4.5 MB/s\u001b[0m eta \u001b[36m0:00:00\u001b[0m\n",
            "\u001b[?25h  Preparing metadata (setup.py) ... \u001b[?25l\u001b[?25hdone\n",
            "\u001b[2K     \u001b[90m━━━━━━━━━━━━━━━━━━━━━━━━━━━━━━━━━━━━━━\u001b[0m \u001b[32m448.4/448.4 KB\u001b[0m \u001b[31m38.6 MB/s\u001b[0m eta \u001b[36m0:00:00\u001b[0m\n",
            "\u001b[2K     \u001b[90m━━━━━━━━━━━━━━━━━━━━━━━━━━━━━━━━━━━━━━\u001b[0m \u001b[32m199.7/199.7 KB\u001b[0m \u001b[31m22.4 MB/s\u001b[0m eta \u001b[36m0:00:00\u001b[0m\n",
            "\u001b[?25h  Building wheel for pyspark (setup.py) ... \u001b[?25l\u001b[?25hdone\n"
          ]
        }
      ]
    },
    {
      "cell_type": "code",
      "source": [
        "import sparknlp\n",
        "\n",
        "spark = sparknlp.start()\n",
        "# params =>> gpu=False\n",
        "\n",
        "print(\"Spark NLP version\", sparknlp.version())\n",
        "print(\"Apache Spark version:\", spark.version)\n",
        "\n",
        "spark"
      ],
      "metadata": {
        "colab": {
          "base_uri": "https://localhost:8080/",
          "height": 258
        },
        "id": "OeZ-mZMEH0vr",
        "outputId": "56981c68-e31e-44d1-c408-514c29066cc8"
      },
      "execution_count": null,
      "outputs": [
        {
          "output_type": "stream",
          "name": "stdout",
          "text": [
            "Spark NLP version 4.2.4\n",
            "Apache Spark version: 3.3.0\n"
          ]
        },
        {
          "output_type": "execute_result",
          "data": {
            "text/plain": [
              "<pyspark.sql.session.SparkSession at 0x7f9693c4f580>"
            ],
            "text/html": [
              "\n",
              "            <div>\n",
              "                <p><b>SparkSession - in-memory</b></p>\n",
              "                \n",
              "        <div>\n",
              "            <p><b>SparkContext</b></p>\n",
              "\n",
              "            <p><a href=\"http://754a3c02acf9:4040\">Spark UI</a></p>\n",
              "\n",
              "            <dl>\n",
              "              <dt>Version</dt>\n",
              "                <dd><code>v3.3.0</code></dd>\n",
              "              <dt>Master</dt>\n",
              "                <dd><code>local[*]</code></dd>\n",
              "              <dt>AppName</dt>\n",
              "                <dd><code>Spark NLP</code></dd>\n",
              "            </dl>\n",
              "        </div>\n",
              "        \n",
              "            </div>\n",
              "        "
            ]
          },
          "metadata": {},
          "execution_count": 3
        }
      ]
    },
    {
      "cell_type": "code",
      "source": [
        "! cd ~/.ivy2/cache/com.johnsnowlabs.nlp/spark-nlp_2.12/jars && ls -lt"
      ],
      "metadata": {
        "colab": {
          "base_uri": "https://localhost:8080/"
        },
        "id": "9zJqhjktH56p",
        "outputId": "a07fb435-8b62-4c2a-b6a0-60bf63364415"
      },
      "execution_count": null,
      "outputs": [
        {
          "output_type": "stream",
          "name": "stdout",
          "text": [
            "total 43992\n",
            "-rw-r--r-- 1 root root 45044627 Nov 28 16:37 spark-nlp_2.12-4.2.4.jar\n"
          ]
        }
      ]
    },
    {
      "cell_type": "code",
      "source": [],
      "metadata": {
        "id": "aOW8v2-TJbei"
      },
      "execution_count": null,
      "outputs": []
    },
    {
      "cell_type": "code",
      "source": [
        "from pyspark.sql import SparkSession\n",
        "spark = SparkSession.builder.appName(\"ford_sent_classifn\").config('spark.ui.port', '4050').getOrCreate()\n",
        "#spark = SparkSession.builder.master(\"local\").appName(\"pyspark\").config('spark.ui.port', '4050').getOrCreate()\n",
        "#spark=SparkSession.builder.appName(\"local[*]\").getOrCreate()\n",
        "sc = spark.sparkContext\n",
        "print(\"Apache Spark version: \", spark.version)\n",
        "spark"
      ],
      "metadata": {
        "id": "H391qFWwBr6D",
        "colab": {
          "base_uri": "https://localhost:8080/",
          "height": 240
        },
        "outputId": "db8c8e81-e1f5-43e2-efbb-99821855b38d"
      },
      "execution_count": null,
      "outputs": [
        {
          "output_type": "stream",
          "name": "stdout",
          "text": [
            "Apache Spark version:  3.3.0\n"
          ]
        },
        {
          "output_type": "execute_result",
          "data": {
            "text/plain": [
              "<pyspark.sql.session.SparkSession at 0x7f9693c4f580>"
            ],
            "text/html": [
              "\n",
              "            <div>\n",
              "                <p><b>SparkSession - in-memory</b></p>\n",
              "                \n",
              "        <div>\n",
              "            <p><b>SparkContext</b></p>\n",
              "\n",
              "            <p><a href=\"http://754a3c02acf9:4040\">Spark UI</a></p>\n",
              "\n",
              "            <dl>\n",
              "              <dt>Version</dt>\n",
              "                <dd><code>v3.3.0</code></dd>\n",
              "              <dt>Master</dt>\n",
              "                <dd><code>local[*]</code></dd>\n",
              "              <dt>AppName</dt>\n",
              "                <dd><code>Spark NLP</code></dd>\n",
              "            </dl>\n",
              "        </div>\n",
              "        \n",
              "            </div>\n",
              "        "
            ]
          },
          "metadata": {},
          "execution_count": 5
        }
      ]
    },
    {
      "cell_type": "code",
      "source": [
        "#Import Necessary Libraries\n",
        "\n",
        "import sparknlp\n",
        "from sparknlp.base import *\n",
        "from sparknlp.annotator import *\n",
        "from pyspark.ml import Pipeline\n",
        "from sklearn.metrics import classification_report, accuracy_score\n",
        "import pyspark.sql.functions as F"
      ],
      "metadata": {
        "id": "1bIUiJToXVXm"
      },
      "execution_count": null,
      "outputs": []
    },
    {
      "cell_type": "code",
      "source": [
        "#Data Ingestion & Data Preprocessing\n",
        "\n",
        "# File location and type\n",
        "file_location = \"/content/spam.csv\"\n",
        "file_type = \"csv\"\n",
        "\n",
        "# CSV options\n",
        "infer_schema = \"false\"\n",
        "first_row_is_header = \"true\"\n",
        "delimiter = \",\"\n",
        "\n",
        "# The applied options are for CSV files. For other file types, these will be ignored.\n",
        "df = spark.read.format(file_type) \\\n",
        "  .option(\"inferSchema\", infer_schema) \\\n",
        "  .option(\"header\", first_row_is_header) \\\n",
        "  .option(\"sep\", delimiter) \\\n",
        "  .load(file_location)\n",
        "\n",
        "df = df.withColumnRenamed(\"v1\", \"label\")\\\n",
        "    .withColumnRenamed(\"v2\", \"text\")\n",
        "\n",
        "df = df.select(F.regexp_replace('label', '\\\"', '').alias('label'), 'text')\n",
        "\n",
        "df = df.where(\"label in ('ham', 'spam')\")\n",
        "\n",
        "df = df.na.drop()\n",
        "\n",
        "display(df)"
      ],
      "metadata": {
        "colab": {
          "base_uri": "https://localhost:8080/",
          "height": 35
        },
        "id": "pbE1xxSnRprO",
        "outputId": "7a87843c-4bb0-4771-8d00-82a4a274577c"
      },
      "execution_count": null,
      "outputs": [
        {
          "output_type": "display_data",
          "data": {
            "text/plain": [
              "DataFrame[label: string, text: string]"
            ]
          },
          "metadata": {}
        }
      ]
    },
    {
      "cell_type": "code",
      "source": [
        "#Display Unique Label Values\n",
        "\n",
        "unique_label_values = df.dropDuplicates([\"label\"]).select(\"label\")\n",
        "unique_label_values.show()"
      ],
      "metadata": {
        "id": "CAeXZ0L1XVdO",
        "colab": {
          "base_uri": "https://localhost:8080/"
        },
        "outputId": "c77183ac-c845-4057-cc54-0d6376bed1c6"
      },
      "execution_count": null,
      "outputs": [
        {
          "output_type": "stream",
          "name": "stdout",
          "text": [
            "+-----+\n",
            "|label|\n",
            "+-----+\n",
            "|  ham|\n",
            "| spam|\n",
            "+-----+\n",
            "\n"
          ]
        }
      ]
    },
    {
      "cell_type": "code",
      "source": [
        "#Split Dataset into Training & Testing Dataset\n",
        "\n",
        "train_ds, test_ds = df.randomSplit(weights=[0.80,0.20], seed=42)"
      ],
      "metadata": {
        "id": "-Al2B992XVgS"
      },
      "execution_count": null,
      "outputs": []
    },
    {
      "cell_type": "code",
      "source": [
        "#Instantiate Pipeline Stages\n",
        "\n",
        "doc = DocumentAssembler()\\\n",
        "    .setInputCol(\"text\")\\\n",
        "    .setOutputCol(\"document\")\n",
        "\n",
        "use = UniversalSentenceEncoder.pretrained('tfhub_use', lang=\"en\") \\\n",
        "    .setInputCols([\"document\"])\\\n",
        "    .setOutputCol(\"sent_embeds\")\n",
        "\n",
        "doc_clf = ClassifierDLModel.pretrained('classifierdl_use_spam', 'en') \\\n",
        "    .setInputCols(\"sent_embeds\") \\\n",
        "    .setOutputCol(\"class\")"
      ],
      "metadata": {
        "id": "jHkumK2dXVj9",
        "colab": {
          "base_uri": "https://localhost:8080/"
        },
        "outputId": "0d82e976-8629-4141-c21e-32aa1c636c73"
      },
      "execution_count": null,
      "outputs": [
        {
          "output_type": "stream",
          "name": "stdout",
          "text": [
            "tfhub_use download started this may take some time.\n",
            "Approximate size to download 923.7 MB\n",
            "[OK!]\n",
            "classifierdl_use_spam download started this may take some time.\n",
            "Approximate size to download 21.3 MB\n",
            "[OK!]\n"
          ]
        }
      ]
    },
    {
      "cell_type": "code",
      "source": [
        "#Build Pipeline\n",
        "\n",
        "spam_nlp_pipeline = Pipeline().setStages([doc, use, doc_clf])"
      ],
      "metadata": {
        "id": "2fWYRWcwSb6P"
      },
      "execution_count": null,
      "outputs": []
    },
    {
      "cell_type": "code",
      "source": [
        "from sparknlp.base import LightPipeline\n",
        "light_pipeline = LightPipeline(spam_nlp_pipeline.fit(spark.createDataFrame([['']]).toDF(\"text\")))\n",
        "\n",
        "# fullannotations = light_pipeline.fullAnnotate(\"Congratulations! You've won a $1,000 Walmart gift card. Go to http://bit.ly/1234 to claim now.\")\n",
        "# print(fullannotations)\n",
        "annotations = light_pipeline.annotate(\"Congratulations! You've won a $1,000 Walmart gift card. Go to http://bit.ly/1234 to claim now.\")\n",
        "annotations\n",
        "\n",
        "# https://nlp.johnsnowlabs.com/2021/01/09/classifierdl_use_spam_en.html\n",
        "# document_assembler = DocumentAssembler()\\\n",
        "#   .setInputCol(\"text\")\\\n",
        "#   .setOutputCol(\"document\")\n",
        "# use = UniversalSentenceEncoder.pretrained('tfhub_use', lang=\"en\") \\\n",
        "#   .setInputCols([\"document\"])\\\n",
        "#   .setOutputCol(\"sentence_embeddings\")\n",
        "# document_classifier = ClassifierDLModel.pretrained('classifierdl_use_spam', 'en') \\\n",
        "#   .setInputCols([\"document\", \"sentence_embeddings\"]) \\\n",
        "#   .setOutputCol(\"class\")\n",
        "# nlpPipeline = Pipeline(stages=[document_assembler, use, document_classifier])\n",
        "# light_pipeline = LightPipeline(nlp_pipeline.fit(spark.createDataFrame([['']]).toDF(\"text\")))\n",
        "\n",
        "# annotations = light_pipeline.fullAnnotate('Congratulations! You've won a $1,000 Walmart gift card. Go to http://bit.ly/1234 to claim now.')\n"
      ],
      "metadata": {
        "colab": {
          "base_uri": "https://localhost:8080/"
        },
        "id": "O98nYGK6StLO",
        "outputId": "378b9f44-3e56-448d-de25-73ab9eeb6b6f"
      },
      "execution_count": null,
      "outputs": [
        {
          "output_type": "execute_result",
          "data": {
            "text/plain": [
              "{'document': [\"Congratulations! You've won a $1,000 Walmart gift card. Go to http://bit.ly/1234 to claim now.\"],\n",
              " 'sent_embeds': [\"Congratulations! You've won a $1,000 Walmart gift card. Go to http://bit.ly/1234 to claim now.\"],\n",
              " 'class': ['spam']}"
            ]
          },
          "metadata": {},
          "execution_count": 31
        }
      ]
    },
    {
      "cell_type": "code",
      "source": [
        "#Fit/Train Model\n",
        "\n",
        "spam_nlp_model = spam_nlp_pipeline.fit(train_ds)"
      ],
      "metadata": {
        "id": "0r-W79hsScBs"
      },
      "execution_count": null,
      "outputs": []
    },
    {
      "cell_type": "code",
      "source": [
        "#Predict Values Based on Testing Dataset\n",
        "\n",
        "predictions = spam_nlp_model.transform(test_ds)"
      ],
      "metadata": {
        "id": "M_mEcQYMScE0"
      },
      "execution_count": null,
      "outputs": []
    },
    {
      "cell_type": "code",
      "source": [
        "#Display Predictions\n",
        "\n",
        "display(predictions)"
      ],
      "metadata": {
        "id": "KApllzfqScH4",
        "colab": {
          "base_uri": "https://localhost:8080/",
          "height": 147
        },
        "outputId": "17fddb95-6aed-40ae-d2e8-4d2fd8792339"
      },
      "execution_count": null,
      "outputs": [
        {
          "output_type": "display_data",
          "data": {
            "text/plain": [
              "DataFrame[label: string, text: string, document: array<struct<annotatorType:string,begin:int,end:int,result:string,metadata:map<string,string>,embeddings:array<float>>>, sent_embeds: array<struct<annotatorType:string,begin:int,end:int,result:string,metadata:map<string,string>,embeddings:array<float>>>, class: array<struct<annotatorType:string,begin:int,end:int,result:string,metadata:map<string,string>,embeddings:array<float>>>]"
            ]
          },
          "metadata": {}
        }
      ]
    },
    {
      "cell_type": "code",
      "source": [
        "#Convert Necessary Features to Pandas DataFrame\n",
        "\n",
        "predictions_in_pandas = (predictions.select(F.col('text').alias(\"text\"), F.col('label').alias(\"ground_truth\"), F.col('class.result').alias(\"prediction\"))).toPandas()\n",
        "display(predictions_in_pandas)"
      ],
      "metadata": {
        "id": "UYlC7lbPS1-E",
        "colab": {
          "base_uri": "https://localhost:8080/",
          "height": 423
        },
        "outputId": "7d0f0cd1-e630-4893-b8f3-890bb04811df"
      },
      "execution_count": null,
      "outputs": [
        {
          "output_type": "display_data",
          "data": {
            "text/plain": [
              "                                                   text ground_truth  \\\n",
              "0      &lt;DECIMAL&gt; m but its not a common car he...          ham   \n",
              "1      said kiss, kiss, i can't do the sound effects...          ham   \n",
              "2                   what number do u live at? Is it 11?          ham   \n",
              "3     \"A Boy loved a gal. He propsd bt she didnt min...          ham   \n",
              "4     \"Beautiful Truth against Gravity.. Read carefu...          ham   \n",
              "...                                                 ...          ...   \n",
              "1066  You will be receiving this week's Triple Echo ...         spam   \n",
              "1067  \\URGENT! This is the 2nd attempt to contact U!...         spam   \n",
              "1068  dating:i have had two of these. Only started a...         spam   \n",
              "1069  from www.Applausestore.com MonthlySubscription...         spam   \n",
              "1070  sports fans - get the latest sports news str* ...         spam   \n",
              "\n",
              "     prediction  \n",
              "0         [ham]  \n",
              "1         [ham]  \n",
              "2         [ham]  \n",
              "3         [ham]  \n",
              "4         [ham]  \n",
              "...         ...  \n",
              "1066     [spam]  \n",
              "1067     [spam]  \n",
              "1068      [ham]  \n",
              "1069     [spam]  \n",
              "1070     [spam]  \n",
              "\n",
              "[1071 rows x 3 columns]"
            ],
            "text/html": [
              "\n",
              "  <div id=\"df-7ad28615-75dc-40f6-8bfd-f6eb646c43d9\">\n",
              "    <div class=\"colab-df-container\">\n",
              "      <div>\n",
              "<style scoped>\n",
              "    .dataframe tbody tr th:only-of-type {\n",
              "        vertical-align: middle;\n",
              "    }\n",
              "\n",
              "    .dataframe tbody tr th {\n",
              "        vertical-align: top;\n",
              "    }\n",
              "\n",
              "    .dataframe thead th {\n",
              "        text-align: right;\n",
              "    }\n",
              "</style>\n",
              "<table border=\"1\" class=\"dataframe\">\n",
              "  <thead>\n",
              "    <tr style=\"text-align: right;\">\n",
              "      <th></th>\n",
              "      <th>text</th>\n",
              "      <th>ground_truth</th>\n",
              "      <th>prediction</th>\n",
              "    </tr>\n",
              "  </thead>\n",
              "  <tbody>\n",
              "    <tr>\n",
              "      <th>0</th>\n",
              "      <td>&amp;lt;DECIMAL&amp;gt; m but its not a common car he...</td>\n",
              "      <td>ham</td>\n",
              "      <td>[ham]</td>\n",
              "    </tr>\n",
              "    <tr>\n",
              "      <th>1</th>\n",
              "      <td>said kiss, kiss, i can't do the sound effects...</td>\n",
              "      <td>ham</td>\n",
              "      <td>[ham]</td>\n",
              "    </tr>\n",
              "    <tr>\n",
              "      <th>2</th>\n",
              "      <td>what number do u live at? Is it 11?</td>\n",
              "      <td>ham</td>\n",
              "      <td>[ham]</td>\n",
              "    </tr>\n",
              "    <tr>\n",
              "      <th>3</th>\n",
              "      <td>\"A Boy loved a gal. He propsd bt she didnt min...</td>\n",
              "      <td>ham</td>\n",
              "      <td>[ham]</td>\n",
              "    </tr>\n",
              "    <tr>\n",
              "      <th>4</th>\n",
              "      <td>\"Beautiful Truth against Gravity.. Read carefu...</td>\n",
              "      <td>ham</td>\n",
              "      <td>[ham]</td>\n",
              "    </tr>\n",
              "    <tr>\n",
              "      <th>...</th>\n",
              "      <td>...</td>\n",
              "      <td>...</td>\n",
              "      <td>...</td>\n",
              "    </tr>\n",
              "    <tr>\n",
              "      <th>1066</th>\n",
              "      <td>You will be receiving this week's Triple Echo ...</td>\n",
              "      <td>spam</td>\n",
              "      <td>[spam]</td>\n",
              "    </tr>\n",
              "    <tr>\n",
              "      <th>1067</th>\n",
              "      <td>\\URGENT! This is the 2nd attempt to contact U!...</td>\n",
              "      <td>spam</td>\n",
              "      <td>[spam]</td>\n",
              "    </tr>\n",
              "    <tr>\n",
              "      <th>1068</th>\n",
              "      <td>dating:i have had two of these. Only started a...</td>\n",
              "      <td>spam</td>\n",
              "      <td>[ham]</td>\n",
              "    </tr>\n",
              "    <tr>\n",
              "      <th>1069</th>\n",
              "      <td>from www.Applausestore.com MonthlySubscription...</td>\n",
              "      <td>spam</td>\n",
              "      <td>[spam]</td>\n",
              "    </tr>\n",
              "    <tr>\n",
              "      <th>1070</th>\n",
              "      <td>sports fans - get the latest sports news str* ...</td>\n",
              "      <td>spam</td>\n",
              "      <td>[spam]</td>\n",
              "    </tr>\n",
              "  </tbody>\n",
              "</table>\n",
              "<p>1071 rows × 3 columns</p>\n",
              "</div>\n",
              "      <button class=\"colab-df-convert\" onclick=\"convertToInteractive('df-7ad28615-75dc-40f6-8bfd-f6eb646c43d9')\"\n",
              "              title=\"Convert this dataframe to an interactive table.\"\n",
              "              style=\"display:none;\">\n",
              "        \n",
              "  <svg xmlns=\"http://www.w3.org/2000/svg\" height=\"24px\"viewBox=\"0 0 24 24\"\n",
              "       width=\"24px\">\n",
              "    <path d=\"M0 0h24v24H0V0z\" fill=\"none\"/>\n",
              "    <path d=\"M18.56 5.44l.94 2.06.94-2.06 2.06-.94-2.06-.94-.94-2.06-.94 2.06-2.06.94zm-11 1L8.5 8.5l.94-2.06 2.06-.94-2.06-.94L8.5 2.5l-.94 2.06-2.06.94zm10 10l.94 2.06.94-2.06 2.06-.94-2.06-.94-.94-2.06-.94 2.06-2.06.94z\"/><path d=\"M17.41 7.96l-1.37-1.37c-.4-.4-.92-.59-1.43-.59-.52 0-1.04.2-1.43.59L10.3 9.45l-7.72 7.72c-.78.78-.78 2.05 0 2.83L4 21.41c.39.39.9.59 1.41.59.51 0 1.02-.2 1.41-.59l7.78-7.78 2.81-2.81c.8-.78.8-2.07 0-2.86zM5.41 20L4 18.59l7.72-7.72 1.47 1.35L5.41 20z\"/>\n",
              "  </svg>\n",
              "      </button>\n",
              "      \n",
              "  <style>\n",
              "    .colab-df-container {\n",
              "      display:flex;\n",
              "      flex-wrap:wrap;\n",
              "      gap: 12px;\n",
              "    }\n",
              "\n",
              "    .colab-df-convert {\n",
              "      background-color: #E8F0FE;\n",
              "      border: none;\n",
              "      border-radius: 50%;\n",
              "      cursor: pointer;\n",
              "      display: none;\n",
              "      fill: #1967D2;\n",
              "      height: 32px;\n",
              "      padding: 0 0 0 0;\n",
              "      width: 32px;\n",
              "    }\n",
              "\n",
              "    .colab-df-convert:hover {\n",
              "      background-color: #E2EBFA;\n",
              "      box-shadow: 0px 1px 2px rgba(60, 64, 67, 0.3), 0px 1px 3px 1px rgba(60, 64, 67, 0.15);\n",
              "      fill: #174EA6;\n",
              "    }\n",
              "\n",
              "    [theme=dark] .colab-df-convert {\n",
              "      background-color: #3B4455;\n",
              "      fill: #D2E3FC;\n",
              "    }\n",
              "\n",
              "    [theme=dark] .colab-df-convert:hover {\n",
              "      background-color: #434B5C;\n",
              "      box-shadow: 0px 1px 3px 1px rgba(0, 0, 0, 0.15);\n",
              "      filter: drop-shadow(0px 1px 2px rgba(0, 0, 0, 0.3));\n",
              "      fill: #FFFFFF;\n",
              "    }\n",
              "  </style>\n",
              "\n",
              "      <script>\n",
              "        const buttonEl =\n",
              "          document.querySelector('#df-7ad28615-75dc-40f6-8bfd-f6eb646c43d9 button.colab-df-convert');\n",
              "        buttonEl.style.display =\n",
              "          google.colab.kernel.accessAllowed ? 'block' : 'none';\n",
              "\n",
              "        async function convertToInteractive(key) {\n",
              "          const element = document.querySelector('#df-7ad28615-75dc-40f6-8bfd-f6eb646c43d9');\n",
              "          const dataTable =\n",
              "            await google.colab.kernel.invokeFunction('convertToInteractive',\n",
              "                                                     [key], {});\n",
              "          if (!dataTable) return;\n",
              "\n",
              "          const docLinkHtml = 'Like what you see? Visit the ' +\n",
              "            '<a target=\"_blank\" href=https://colab.research.google.com/notebooks/data_table.ipynb>data table notebook</a>'\n",
              "            + ' to learn more about interactive tables.';\n",
              "          element.innerHTML = '';\n",
              "          dataTable['output_type'] = 'display_data';\n",
              "          await google.colab.output.renderOutput(dataTable, element);\n",
              "          const docLink = document.createElement('div');\n",
              "          docLink.innerHTML = docLinkHtml;\n",
              "          element.appendChild(docLink);\n",
              "        }\n",
              "      </script>\n",
              "    </div>\n",
              "  </div>\n",
              "  "
            ]
          },
          "metadata": {}
        }
      ]
    },
    {
      "cell_type": "code",
      "source": [
        "#Instantiate & Display Classification Report\n",
        "\n",
        "predictions_in_pandas['prediction'] = predictions_in_pandas['prediction'].apply(lambda x : x[0])\n",
        "\n",
        "report = classification_report(predictions_in_pandas['ground_truth'], predictions_in_pandas['prediction'])\n",
        "print(report)"
      ],
      "metadata": {
        "colab": {
          "base_uri": "https://localhost:8080/"
        },
        "id": "KoWzAN-FO-xZ",
        "outputId": "81bc582c-4fee-4baa-dc88-503d7c8b64bf"
      },
      "execution_count": null,
      "outputs": [
        {
          "output_type": "stream",
          "name": "stdout",
          "text": [
            "              precision    recall  f1-score   support\n",
            "\n",
            "         ham       0.99      0.99      0.99       923\n",
            "        spam       0.94      0.92      0.93       148\n",
            "\n",
            "    accuracy                           0.98      1071\n",
            "   macro avg       0.96      0.95      0.96      1071\n",
            "weighted avg       0.98      0.98      0.98      1071\n",
            "\n"
          ]
        }
      ]
    }
  ]
}
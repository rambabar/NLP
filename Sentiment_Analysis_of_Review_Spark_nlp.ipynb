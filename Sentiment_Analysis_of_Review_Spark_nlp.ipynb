{
  "nbformat": 4,
  "nbformat_minor": 0,
  "metadata": {
    "colab": {
      "provenance": []
    },
    "kernelspec": {
      "name": "python3",
      "display_name": "Python 3"
    },
    "language_info": {
      "name": "python"
    },
    "gpuClass": "standard"
  },
  "cells": [
    {
      "cell_type": "code",
      "source": [
        "from google.colab import drive\n",
        "drive.mount('/content/drive')"
      ],
      "metadata": {
        "id": "7Y0teSrslN2A",
        "colab": {
          "base_uri": "https://localhost:8080/"
        },
        "outputId": "9a9e779c-3a6d-4211-a5ee-5e8a26bea05c"
      },
      "execution_count": null,
      "outputs": [
        {
          "output_type": "stream",
          "name": "stdout",
          "text": [
            "Mounted at /content/drive\n"
          ]
        }
      ]
    },
    {
      "cell_type": "code",
      "source": [
        "# Data download\n",
        "# kaggle: https://www.kaggle.com/datasets/marklvl/sentiment-labelled-sentences-data-set\n",
        "\n",
        "!wget -q --show-progress https://raw.githubusercontent.com/rambabar/NLP/main/data/ford_sentence_data.zip"
      ],
      "metadata": {
        "colab": {
          "base_uri": "https://localhost:8080/"
        },
        "id": "QG8oS5JZYQ0x",
        "outputId": "b5c49388-4e2d-4f34-90e5-663c7a67e26e"
      },
      "execution_count": null,
      "outputs": [
        {
          "output_type": "stream",
          "name": "stdout",
          "text": [
            "\rford_sentence_data.   0%[                    ]       0  --.-KB/s               \rford_sentence_data. 100%[===================>]   2.92M  --.-KB/s    in 0.07s   \n"
          ]
        }
      ]
    },
    {
      "cell_type": "code",
      "source": [
        "!mkdir data\n",
        "!unzip /content/sentiment_labelled_sentences.zip -d /content/data"
      ],
      "metadata": {
        "id": "PLESwuLLX0nD",
        "colab": {
          "base_uri": "https://localhost:8080/"
        },
        "outputId": "8777a1b4-ae29-47b7-b025-2b7cd80cb16f"
      },
      "execution_count": null,
      "outputs": [
        {
          "output_type": "stream",
          "name": "stdout",
          "text": [
            "unzip:  cannot find or open /content/sentiment_labelled_sentences.zip, /content/sentiment_labelled_sentences.zip.zip or /content/sentiment_labelled_sentences.zip.ZIP.\n"
          ]
        }
      ]
    },
    {
      "cell_type": "code",
      "source": [
        "# # If Training time of model is more to prevent disconnect\n",
        "# #Just open Chrome DevTools by pressing F12 or Ctrl+Shift+I on Linux & run following JavaScript code in your console:\n",
        "# '''\n",
        "# function KeepClicking(){\n",
        "#    console.log(\"Clicking\");\n",
        "#    document.querySelector(\"colab-toolbar-button#connect\").click()\n",
        "# }setInterval(KeepClicking,60000)\n",
        "# '''"
      ],
      "metadata": {
        "id": "HTlL9EIpnWaG"
      },
      "execution_count": null,
      "outputs": []
    },
    {
      "cell_type": "code",
      "source": [
        "# #Spark written in Scala programming language & requires Java Virtual Machine (JVM) to run. Therefore, download Java.\n",
        "# !apt-get install openjdk-8-jdk-headless -qq > /dev/null\n",
        "# # install Apache Spark with Hadoop (change the version number if needed) # https://downloads.apache.org/spark/\n",
        "# # !wget -q https://archive.apache.org/dist/spark/spark-3.0.0/spark-3.0.0-bin-hadoop3.2.tgz\n",
        "\n",
        "# !wget -q http://apache.osuosl.org/spark/spark-3.3.1/spark-3.3.1-bin-hadoop3.tgz\n",
        "# !tar xf spark-3.3.1-bin-hadoop3.tgz\n",
        "\n",
        "# # unzip the spark file to the current folder\n",
        "# # !tar xf spark-3.0.0-bin-hadoop3.2.tgz\n",
        "# #install findspark library using pip that will locate Spark on the system and import it as a regular library.\n",
        "# !pip install -q findspark #sparknlp\n",
        "# # set your spark folder to your system path environment. \n",
        "# import os\n",
        "# os.environ[\"JAVA_HOME\"] = \"/usr/lib/jvm/java-8-openjdk-amd64\"\n",
        "# # os.environ[\"SPARK_HOME\"] = \"/content/spark-3.0.0-bin-hadoop3.2\"\n",
        "# os.environ[\"SPARK_HOME\"] = \"/content/spark-3.3.1-bin-hadoop3\"\n",
        "\n",
        "# import findspark\n",
        "# findspark.init()\n",
        "# findspark.find()\n",
        "# # # OR\n",
        "# # # # #install pyspark\n",
        "# # # !pip install -q wheel\n",
        "# # # !pip install -q pyspark"
      ],
      "metadata": {
        "colab": {
          "base_uri": "https://localhost:8080/",
          "height": 36
        },
        "id": "KbFvKWj9ouCN",
        "outputId": "b3ae4c41-ce8f-4451-e728-0edc04a75447"
      },
      "execution_count": null,
      "outputs": [
        {
          "output_type": "execute_result",
          "data": {
            "text/plain": [
              "'/content/spark-3.3.1-bin-hadoop3'"
            ],
            "application/vnd.google.colaboratory.intrinsic+json": {
              "type": "string"
            }
          },
          "metadata": {},
          "execution_count": 3
        }
      ]
    },
    {
      "cell_type": "code",
      "source": [
        "!pip install -q pyspark==3.3.0 spark-nlp==4.2.4"
      ],
      "metadata": {
        "colab": {
          "base_uri": "https://localhost:8080/"
        },
        "id": "ChZ4sKTqHtng",
        "outputId": "6a55994c-ab5f-4a1c-d5cb-dc7aa012cad8"
      },
      "execution_count": null,
      "outputs": [
        {
          "output_type": "stream",
          "name": "stdout",
          "text": [
            "\u001b[2K     \u001b[90m━━━━━━━━━━━━━━━━━━━━━━━━━━━━━━━━━━━━━━━\u001b[0m \u001b[32m281.3/281.3 MB\u001b[0m \u001b[31m3.6 MB/s\u001b[0m eta \u001b[36m0:00:00\u001b[0m\n",
            "\u001b[?25h  Preparing metadata (setup.py) ... \u001b[?25l\u001b[?25hdone\n",
            "\u001b[2K     \u001b[90m━━━━━━━━━━━━━━━━━━━━━━━━━━━━━━━━━━━━━━\u001b[0m \u001b[32m448.4/448.4 KB\u001b[0m \u001b[31m30.4 MB/s\u001b[0m eta \u001b[36m0:00:00\u001b[0m\n",
            "\u001b[2K     \u001b[90m━━━━━━━━━━━━━━━━━━━━━━━━━━━━━━━━━━━━━━\u001b[0m \u001b[32m199.7/199.7 KB\u001b[0m \u001b[31m18.7 MB/s\u001b[0m eta \u001b[36m0:00:00\u001b[0m\n",
            "\u001b[?25h  Building wheel for pyspark (setup.py) ... \u001b[?25l\u001b[?25hdone\n"
          ]
        }
      ]
    },
    {
      "cell_type": "code",
      "source": [
        "import sparknlp\n",
        "\n",
        "spark = sparknlp.start()\n",
        "# params =>> gpu=False\n",
        "\n",
        "print(\"Spark NLP version\", sparknlp.version())\n",
        "print(\"Apache Spark version:\", spark.version)\n",
        "\n",
        "spark"
      ],
      "metadata": {
        "colab": {
          "base_uri": "https://localhost:8080/",
          "height": 254
        },
        "id": "OeZ-mZMEH0vr",
        "outputId": "38c84f80-7fe9-4b88-8256-db56c1469ae7"
      },
      "execution_count": null,
      "outputs": [
        {
          "output_type": "stream",
          "name": "stdout",
          "text": [
            "Spark NLP version 4.2.4\n",
            "Apache Spark version: 3.3.0\n"
          ]
        },
        {
          "output_type": "execute_result",
          "data": {
            "text/plain": [
              "<pyspark.sql.session.SparkSession at 0x7fbfa570c2e0>"
            ],
            "text/html": [
              "\n",
              "            <div>\n",
              "                <p><b>SparkSession - in-memory</b></p>\n",
              "                \n",
              "        <div>\n",
              "            <p><b>SparkContext</b></p>\n",
              "\n",
              "            <p><a href=\"http://8669a2aa412d:4040\">Spark UI</a></p>\n",
              "\n",
              "            <dl>\n",
              "              <dt>Version</dt>\n",
              "                <dd><code>v3.3.0</code></dd>\n",
              "              <dt>Master</dt>\n",
              "                <dd><code>local[*]</code></dd>\n",
              "              <dt>AppName</dt>\n",
              "                <dd><code>Spark NLP</code></dd>\n",
              "            </dl>\n",
              "        </div>\n",
              "        \n",
              "            </div>\n",
              "        "
            ]
          },
          "metadata": {},
          "execution_count": 4
        }
      ]
    },
    {
      "cell_type": "code",
      "source": [
        "! cd ~/.ivy2/cache/com.johnsnowlabs.nlp/spark-nlp_2.12/jars && ls -lt"
      ],
      "metadata": {
        "colab": {
          "base_uri": "https://localhost:8080/"
        },
        "id": "9zJqhjktH56p",
        "outputId": "de81d7de-1cec-439c-c46b-9ced6c781f66"
      },
      "execution_count": null,
      "outputs": [
        {
          "output_type": "stream",
          "name": "stdout",
          "text": [
            "total 43992\n",
            "-rw-r--r-- 1 root root 45044627 Nov 28 16:37 spark-nlp_2.12-4.2.4.jar\n"
          ]
        }
      ]
    },
    {
      "cell_type": "code",
      "source": [
        "#https://github.com/DunnBC22/Spark_Projects/blob/main/Python%20(PySpark)/NLP/Sentiment%20Analysis/Sentiment%20Analysis%20of%20Reviews/Sentiment%20Analysis%20of%20Reviews.ipynb"
      ],
      "metadata": {
        "id": "aOW8v2-TJbei"
      },
      "execution_count": null,
      "outputs": []
    },
    {
      "cell_type": "code",
      "source": [
        "# import sparknlp\n",
        "# spark = sparknlp.start()\n",
        "from pyspark.sql import SparkSession\n",
        "spark = SparkSession.builder.appName(\"ford_sent_classifn\").config('spark.ui.port', '4050').getOrCreate()\n",
        "#spark = SparkSession.builder.master(\"local\").appName(\"pyspark\").config('spark.ui.port', '4050').getOrCreate()\n",
        "#spark=SparkSession.builder.appName(\"local[*]\").getOrCreate()\n",
        "sc = spark.sparkContext\n",
        "print(\"Apache Spark version: \", spark.version)\n",
        "spark"
      ],
      "metadata": {
        "id": "H391qFWwBr6D",
        "colab": {
          "base_uri": "https://localhost:8080/",
          "height": 237
        },
        "outputId": "706e46b3-c198-465f-823f-eb8a4fc53305"
      },
      "execution_count": null,
      "outputs": [
        {
          "output_type": "stream",
          "name": "stdout",
          "text": [
            "Apache Spark version:  3.3.0\n"
          ]
        },
        {
          "output_type": "execute_result",
          "data": {
            "text/plain": [
              "<pyspark.sql.session.SparkSession at 0x7fbfa570c2e0>"
            ],
            "text/html": [
              "\n",
              "            <div>\n",
              "                <p><b>SparkSession - in-memory</b></p>\n",
              "                \n",
              "        <div>\n",
              "            <p><b>SparkContext</b></p>\n",
              "\n",
              "            <p><a href=\"http://8669a2aa412d:4040\">Spark UI</a></p>\n",
              "\n",
              "            <dl>\n",
              "              <dt>Version</dt>\n",
              "                <dd><code>v3.3.0</code></dd>\n",
              "              <dt>Master</dt>\n",
              "                <dd><code>local[*]</code></dd>\n",
              "              <dt>AppName</dt>\n",
              "                <dd><code>Spark NLP</code></dd>\n",
              "            </dl>\n",
              "        </div>\n",
              "        \n",
              "            </div>\n",
              "        "
            ]
          },
          "metadata": {},
          "execution_count": 7
        }
      ]
    },
    {
      "cell_type": "code",
      "source": [
        "#Import Necessary Libraries\n",
        "import pandas\n",
        "\n",
        "import pyspark\n",
        "from pyspark.sql.types import StructType, StructField, IntegerType, StringType\n",
        "import pyspark.sql.functions as F\n",
        "import sparknlp\n",
        "from sparknlp.base import *\n",
        "from sparknlp.annotator import *\n",
        "from pyspark.ml import Pipeline\n",
        "\n",
        "\n",
        "from sklearn.metrics import classification_report, confusion_matrix, ConfusionMatrixDisplay"
      ],
      "metadata": {
        "id": "1bIUiJToXVXm"
      },
      "execution_count": null,
      "outputs": []
    },
    {
      "cell_type": "code",
      "source": [
        "# Function to Ingest Data\n",
        "\n",
        "def ingest_data(file_location: str) -> pandas.DataFrame:\n",
        "    '''\n",
        "    This function ingests a single data file at a time.\n",
        "    '''\n",
        "    \n",
        "    file_type = \"csv\"\n",
        "    infer_schema = \"false\"\n",
        "    first_row_is_header = \"false\"\n",
        "    line_sep = '\\n'\n",
        "    \n",
        "    dataset = spark.read.text(file_location, lineSep=\"\\n\")\n",
        "    \n",
        "    dataset = dataset.withColumn(\"text\", F.split(dataset['value'], '\\t').getItem(0)) \\\n",
        "                    .withColumn(\"label\", F.split(dataset['value'], '\\t').getItem(1)) \\\n",
        "                    .drop(\"value\")\n",
        "    \n",
        "    return dataset\n",
        "    \n",
        "# Function to Ingest & Concatenate Multiple Files at Once\n",
        "\n",
        "def ingest_multiple_files(files: [], schema: StructType) -> pandas.DataFrame:\n",
        "    '''\n",
        "    This function concatenates multiple data files into one after calling \n",
        "    the 'ingest_data' function to ingest them individually.\n",
        "    '''\n",
        "    temp_df = spark.createDataFrame([], schema)\n",
        "    new_df = spark.createDataFrame([], schema)\n",
        "    \n",
        "    for x in files:\n",
        "        # Ingest next dataset\n",
        "        temp_df = ingest_data(x)\n",
        "        # Concatenate it to existing dataset\n",
        "        new_df = new_df.union(temp_df)\n",
        "        # unpersist the temp_df\n",
        "        temp_df.unpersist()\n",
        "    \n",
        "    return new_df\n",
        "\n",
        "# Function to Evaluate Metrics\n",
        "\n",
        "def metrics_eval(prediction: pandas.Series, label: pandas.Series, model_name: str) -> None:\n",
        "    '''\n",
        "    This function calculates and displays the following metrics:\n",
        "    - Classification Report (including accuracy, recall, precision, \n",
        "        & F1-score, among others)\n",
        "    - Confusion Matrix\n",
        "    '''\n",
        "    \n",
        "    print(\"-------------------------------------------------------------\")\n",
        "    print(f\"The {model_name} Model:\")\n",
        "    print(\"-------------------------------------------------------------\")\n",
        "    print(f\"Classification Report for the {model_name} Model:\")\n",
        "    \n",
        "    report = classification_report(label, prediction, zero_division=1)\n",
        "    print(report)\n",
        "    \n",
        "    print(\"-------------------------------------------------------------\")\n",
        "    \n",
        "    print(f\"Confusion Matrix for the {model_name} Model:\")\n",
        "    cm = confusion_matrix(label, prediction)\n",
        "    dist = ConfusionMatrixDisplay(confusion_matrix=cm)\n",
        "    dist.plot()\n",
        "    \n",
        "    print(\"-------------------------------------------------------------\")"
      ],
      "metadata": {
        "id": "fZ-4L0pcIuN3"
      },
      "execution_count": null,
      "outputs": []
    },
    {
      "cell_type": "code",
      "source": [],
      "metadata": {
        "id": "XdKBjPRYI0Nv"
      },
      "execution_count": null,
      "outputs": []
    },
    {
      "cell_type": "code",
      "source": [
        "#Ingest & Preprocess Dataset\n",
        "\n",
        "file_1 = \"/content/data/amazon_cells_labelled.txt\"\n",
        "file_2 = \"/content/data/imdb_labelled.txt\"\n",
        "file_3 = \"/content/data/yelp_labelled.txt\"\n",
        "\n",
        "files_to_ingest = [file_1, file_2, file_3]\n",
        "\n",
        "orig_schema = StructType([\n",
        "    StructField(\"text\", StringType(), True),\n",
        "    StructField(\"label\", StringType(), True),\n",
        "])\n",
        "\n",
        "df = ingest_multiple_files(files_to_ingest, orig_schema)\n",
        "\n",
        "df = df.withColumn(\"text_len\", F.size(F.split(F.col('text'), ' ')))\n",
        "\n",
        "df = df.withColumn(\"label\",\\\n",
        "        F.when(df[\"label\"]==\"0\", F.regexp_replace(df[\"label\"], \"0\", \"negative\"))\\\n",
        "        .when(df[\"label\"]==\"1\", F.regexp_replace(df[\"label\"], \"1\", \"positive\")))\n",
        "\n",
        "df = df.na.drop(subset=[\"label\"])\n",
        "\n",
        "display(df)"
      ],
      "metadata": {
        "colab": {
          "base_uri": "https://localhost:8080/",
          "height": 34
        },
        "id": "pbE1xxSnRprO",
        "outputId": "5e50e1f6-49d2-4bce-82ee-037d11687a3e"
      },
      "execution_count": null,
      "outputs": [
        {
          "output_type": "display_data",
          "data": {
            "text/plain": [
              "DataFrame[text: string, label: string, text_len: int]"
            ]
          },
          "metadata": {}
        }
      ]
    },
    {
      "cell_type": "code",
      "source": [
        "#Remove Unnecessary Feature\n",
        "\n",
        "df = df.drop(\"text_len\")"
      ],
      "metadata": {
        "id": "fKWikAMDpyi-"
      },
      "execution_count": null,
      "outputs": []
    },
    {
      "cell_type": "code",
      "source": [
        "## Define Pipeline Stages & Instantiate Pipeline\n",
        "# Create Pipeline Stages\n",
        "\n",
        "MODEL_NAME='sentimentdl_use_twitter'\n",
        "\n",
        "document_assembler = DocumentAssembler() \\\n",
        "    .setInputCol(\"text\")\\\n",
        "    .setOutputCol(\"doc\")\n",
        "    \n",
        "use = UniversalSentenceEncoder.pretrained(name=\"tfhub_use\", lang=\"en\")\\\n",
        "    .setInputCols([\"doc\"])\\\n",
        "    .setOutputCol(\"use\")\n",
        "\n",
        "sent_dl_clf = SentimentDLModel.pretrained(MODEL_NAME, lang='en')\\\n",
        "    .setInputCols([\"use\"])\\\n",
        "    .setOutputCol(\"class\")"
      ],
      "metadata": {
        "id": "flzb7BVypypD",
        "colab": {
          "base_uri": "https://localhost:8080/"
        },
        "outputId": "d05477ba-4c1a-4fa2-cbe2-584c517e5cee"
      },
      "execution_count": null,
      "outputs": [
        {
          "output_type": "stream",
          "name": "stdout",
          "text": [
            "tfhub_use download started this may take some time.\n",
            "Approximate size to download 923.7 MB\n",
            "[OK!]\n",
            "sentimentdl_use_twitter download started this may take some time.\n",
            "Approximate size to download 11.4 MB\n",
            "[OK!]\n"
          ]
        }
      ]
    },
    {
      "cell_type": "code",
      "source": [
        "# Create Pipeline\n",
        "\n",
        "sent_dl_pipe = Pipeline().setStages([document_assembler, use, sent_dl_clf])"
      ],
      "metadata": {
        "id": "CAeXZ0L1XVdO"
      },
      "execution_count": null,
      "outputs": []
    },
    {
      "cell_type": "code",
      "source": [
        "## Evaluate Samples & Evaluate Results\n",
        "# Train & Create Predictions Using Trained Sentiment Analysis Model\n",
        "\n",
        "preds = sent_dl_pipe.fit(df).transform(df)\n",
        "     "
      ],
      "metadata": {
        "id": "-Al2B992XVgS"
      },
      "execution_count": null,
      "outputs": []
    },
    {
      "cell_type": "code",
      "source": [
        "# Return Condensed Predictions in Pandas DataFrame Form\n",
        "\n",
        "preds_in_pandas = (preds.select(F.col('text').alias(\"text\"), F.col('label').alias(\"ground_truth\"), F.col('class.result').alias(\"prediction\"))).toPandas()\n",
        "\n",
        "preds_in_pandas['prediction'] = preds_in_pandas['prediction'].apply(lambda x : x[0])"
      ],
      "metadata": {
        "id": "jHkumK2dXVj9"
      },
      "execution_count": null,
      "outputs": []
    },
    {
      "cell_type": "code",
      "source": [
        "#Display Metrics via Metrics Function Defined Above\n",
        "\n",
        "metrics_eval(preds_in_pandas['prediction'], preds_in_pandas['ground_truth'], \"Sentiment Analysis\")"
      ],
      "metadata": {
        "id": "2fWYRWcwSb6P",
        "colab": {
          "base_uri": "https://localhost:8080/",
          "height": 575
        },
        "outputId": "fa1fabd4-657d-4275-e9fe-22d6aa26b576"
      },
      "execution_count": null,
      "outputs": [
        {
          "output_type": "stream",
          "name": "stdout",
          "text": [
            "-------------------------------------------------------------\n",
            "The Sentiment Analysis Model:\n",
            "-------------------------------------------------------------\n",
            "Classification Report for the Sentiment Analysis Model:\n",
            "              precision    recall  f1-score   support\n",
            "\n",
            "    negative       0.83      0.80      0.81      1500\n",
            "     neutral       0.00      1.00      0.00         0\n",
            "    positive       0.83      0.81      0.82      1500\n",
            "\n",
            "    accuracy                           0.81      3000\n",
            "   macro avg       0.55      0.87      0.55      3000\n",
            "weighted avg       0.83      0.81      0.82      3000\n",
            "\n",
            "-------------------------------------------------------------\n",
            "Confusion Matrix for the Sentiment Analysis Model:\n",
            "-------------------------------------------------------------\n"
          ]
        },
        {
          "output_type": "display_data",
          "data": {
            "text/plain": [
              "<Figure size 432x288 with 2 Axes>"
            ],
            "image/png": "[encoded data removed]"
          },
          "metadata": {
            "needs_background": "light"
          }
        }
      ]
    },
    {
      "cell_type": "code",
      "source": [
        "from sparknlp.base import LightPipeline\n",
        "light_pipeline = LightPipeline(sent_dl_pipe.fit(df))\n",
        "\n",
        "# fullannotations = light_pipeline.fullAnnotate(\"Good case, Excellent value.\")\n",
        "# print(fullannotations)\n",
        "annotations = light_pipeline.annotate(\"Good case, Excellent value.\")\n",
        "annotations"
      ],
      "metadata": {
        "colab": {
          "base_uri": "https://localhost:8080/"
        },
        "id": "O98nYGK6StLO",
        "outputId": "164c1706-3dd3-40f2-b84e-116d0b5cb95f"
      },
      "execution_count": null,
      "outputs": [
        {
          "output_type": "execute_result",
          "data": {
            "text/plain": [
              "{'doc': ['Good case, Excellent value.'],\n",
              " 'use': ['Good case, Excellent value.'],\n",
              " 'class': ['positive']}"
            ]
          },
          "metadata": {},
          "execution_count": 18
        }
      ]
    },
    {
      "cell_type": "code",
      "source": [
        "light_pipeline.fullAnnotate(\"Good case, Excellent value.\")"
      ],
      "metadata": {
        "colab": {
          "base_uri": "https://localhost:8080/"
        },
        "id": "XRby7BpwILT_",
        "outputId": "6567fb5f-a45b-4d21-d5e0-fcd16fdb726a"
      },
      "execution_count": null,
      "outputs": [
        {
          "output_type": "execute_result",
          "data": {
            "text/plain": [
              "[{'doc': [Annotation(document, 0, 26, Good case, Excellent value., {})],\n",
              "  'use': [Annotation(sentence_embeddings, 0, 26, Good case, Excellent value., {'sentence': '0', 'token': 'Good case, Excellent value.', 'pieceId': '-1', 'isWordStart': 'true'})],\n",
              "  'class': [Annotation(category, 0, 26, positive, {'sentence': '0', 'positive': '1.0', 'negative': '0.0'})]}]"
            ]
          },
          "metadata": {},
          "execution_count": 19
        }
      ]
    },
    {
      "cell_type": "code",
      "source": [
        "light_pipeline.annotate(\"Good case, Excellent value.\")"
      ],
      "metadata": {
        "id": "h9Zw326pIWhm",
        "outputId": "8054d8f4-81bb-4dee-cb78-5a229d6a1c85",
        "colab": {
          "base_uri": "https://localhost:8080/"
        }
      },
      "execution_count": null,
      "outputs": [
        {
          "output_type": "execute_result",
          "data": {
            "text/plain": [
              "{'doc': ['Good case, Excellent value.'],\n",
              " 'use': ['Good case, Excellent value.'],\n",
              " 'class': ['positive']}"
            ]
          },
          "metadata": {},
          "execution_count": 20
        }
      ]
    },
    {
      "cell_type": "code",
      "source": [
        "#End Spark Session\n",
        "\n",
        "# spark.stop()"
      ],
      "metadata": {
        "id": "LQRx4zUhvQYe"
      },
      "execution_count": null,
      "outputs": []
    },
    {
      "cell_type": "code",
      "source": [],
      "metadata": {
        "id": "eeyVn0PIvQoV"
      },
      "execution_count": null,
      "outputs": []
    },
    {
      "cell_type": "code",
      "source": [],
      "metadata": {
        "id": "5F9B48tJS3rV"
      },
      "execution_count": null,
      "outputs": []
    },
    {
      "cell_type": "code",
      "source": [
        "\n",
        "# GitHub - maobedkova/TopicModelling_PySpark_SparkNLP: Tutorial for Topic Modelling using PySpark and Spark NLP\n",
        "# https://github.com/maobedkova/TopicModelling_PySpark_SparkNLP\n",
        "\n",
        "# GitHub - DunnBC22/Spark_Projects: This is the repository for all of my Spark projects, which include Spark NLP & Computer Vision projects.\n",
        "# https://github.com/DunnBC22/Spark_Projects\n",
        "\n",
        "# GitHub - prabhupavitra/Text-Summarization-PySpark: Text summarization algorithms using PySpark\n",
        "# https://github.com/prabhupavitra/Text-Summarization-PySpark\n",
        "\n",
        "# GitHub - MWFK/NLP-from-Zero-to-Hero: Compilation of NLP notebooks from various sources that address several technical challenges.\n",
        "# https://github.com/MWFK/NLP-from-Zero-to-Hero\n",
        "\n",
        "# GitHub - avisionary/reddit-comments-analysis: Big data project to analyze (Subreddit : NoStupidQuestions) comments\n",
        "# https://github.com/avisionary/reddit-comments-analysis\n",
        "\n",
        "# GitHub - SolanaO/Healthcare_SparkNLP_Study: SparkNLP and Healthcare SparkNLP based analysis of scientific literature on equine colic.\n",
        "# https://github.com/SolanaO/Healthcare_SparkNLP_Study\n",
        "\n",
        "# GitHub - martinKindall/spark_ml_and_nlp: Spark training examples of Machine Learning and Natural Language Processing, using Spark ML and Spark NLP libraries.\n",
        "# https://github.com/martinKindall/spark_ml_and_nlp\n",
        "\n",
        "# GitHub - fabiod20/big-data-analytics-and-business-intelligence: Final project of \"Big Data Analytics and Business Intelligence\" course.\n",
        "# https://github.com/fabiod20/big-data-analytics-and-business-intelligence\n",
        "\n",
        "# spark-nlp-Pyspark/spark-nlp.ipynb at master · GhaidaaShtayeh/spark-nlp-Pyspark · GitHub\n",
        "# https://github.com/GhaidaaShtayeh/spark-nlp-Pyspark/blob/master/spark-nlp.ipynb\n",
        "\n",
        "# https://github.com/josejuanmartinez/medium/blob/main/mlflow/mlflow.md\n",
        "\n",
        "# Experiment Tracking\n",
        "# https://nlp.johnsnowlabs.com/docs/en/mlflow\n",
        "# Johnsnowlabs\n",
        "# Spark NLP\n",
        "# High Performance NLP with Apache Spark\n",
        "# https://medium.com/spark-nlp/serving-spark-nlp-via-api-spring-and-lightpipelines-64d2e6413327\n",
        "\n",
        "# ATIS - Intent classification with Spark NLP | Kaggle\n",
        "# https://www.kaggle.com/code/drscarlat/atis-intent-classification-with-spark-nlp\n",
        "\n",
        "# Kaggle\n",
        "# ATIS - Intent classification with Spark NLP\n",
        "# Explore and run machine learning code with Kaggle Notebooks | Using data from ATIS Airline Travel Information System\n",
        "# NBME - Spark NLP Healthcare | Kaggle\n",
        "# https://www.kaggle.com/code/lhd0430/nbme-spark-nlp-healthcare\n",
        "\n",
        "# Kaggle\n",
        "# NBME - Spark NLP Healthcare\n",
        "# Explore and run machine learning code with Kaggle Notebooks | Using data from NBME - Score Clinical Patient Notes\n",
        "# Spark NLP via PySpark - Recognize Entities | Kaggle\n",
        "# https://www.kaggle.com/code/almogtavor/spark-nlp-via-pyspark-recognize-entities\n",
        "\n",
        "# Kaggle\n",
        "# Spark NLP via PySpark - Recognize Entities\n",
        "# Explore and run machine learning code with Kaggle Notebooks | Using data from No attached data sources\n",
        "# Universal Sentence Encoder 74% accuracy sparknlp | Kaggle\n",
        "# https://www.kaggle.com/code/nikhileswarkomati/universal-sentence-encoder-74-accuracy-sparknlp\n",
        "\n",
        "# Kaggle\n",
        "# Universal Sentence Encoder 74% accuracy sparknlp\n",
        "# Explore and run machine learning code with Kaggle Notebooks | Using data from Suicide and Depression Detection\n",
        "# https://github.com/JohnSnowLabs/spark-nlp-workshop\n",
        "\n",
        "# Spark NLP 101: LightPipeline - KDnuggets\n",
        "# https://www.kdnuggets.com/2019/11/spark-nlp-101-lightpipeline.html\n",
        "\n",
        "# John Snow Labs - Spark NLP\n",
        "# https://nlp.johnsnowlabs.com/\n",
        "\n",
        "# How to Extract Medical Information From Unstructured Data Using NLP\n",
        "# https://www.topcoder.com/thrive/articles/how-to-extract-medical-information-from-unstructured-data-using-nlp\n",
        "\n",
        "# https://www.analyticsvidhya.com/blog/2020/07/build-text-categorization-model-with-spark-nlp/\n",
        "\n",
        "# https://github.com/JohnSnowLabs/spark-nlp-models\n",
        "# https://heartbeat.comet.ml/new-integration-comet-spark-nlp-276987144d1c\n",
        "\n",
        "# https://youtu.be/jZAhLmet6Yk\n",
        "\n",
        "\n",
        "# Some major tasks of NLP are automatic summarization, discourse analysis, machine translation, conference resolution, speech recognition, etc. Automatic summarization helps the computer provide us with a summary for a specific text, article, journals, etc.\n",
        "\n",
        "# A customer support bot.\n",
        "# A language identifier.\n",
        "# An ML-powered autocomplete feature.\n",
        "# A predictive text generator.\n",
        "# A media monitor.\n",
        "\n",
        "# One of the most important and challenging tasks in the entire NLP process is to train a machine to derive the actual meaning of words, especially when the same word can have multiple meanings within a single document.\n",
        "# high demand nlp tasks"
      ],
      "metadata": {
        "id": "rT-OelAXbFks"
      },
      "execution_count": null,
      "outputs": []
    },
    {
      "cell_type": "code",
      "source": [
        "# https://sparkbyexamples.com/pyspark/pyspark-aggregate-functions/\n",
        "# https://jaceklaskowski.gitbooks.io/mastering-spark-sql/content/"
      ],
      "metadata": {
        "id": "L6sT8LXC7Yi6"
      },
      "execution_count": null,
      "outputs": []
    }
  ]
}